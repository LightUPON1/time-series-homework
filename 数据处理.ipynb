{
 "cells": [
  {
   "cell_type": "code",
   "execution_count": null,
   "metadata": {},
   "outputs": [
    {
     "name": "stdout",
     "output_type": "stream",
     "text": [
      "数据处理完成，已保存到: D:\\桌面\\黄金期货历史数据2.csv\n"
     ]
    }
   ],
   "source": [
    "import pandas as pd\n",
    "import numpy as np\n",
    "from datetime import datetime\n",
    "input_path = r\"D:\\桌面\\黄金期货历史数据1.csv\"\n",
    "output_path = r\"D:\\桌面\\黄金期货历史数据2.csv\"\n",
    "\n",
    "df = pd.read_csv(input_path)\n",
    "df = df.iloc[::-1].reset_index(drop=True)\n",
    "df = df.rename(columns={\n",
    "    '日期': 'date',\n",
    "    '交易量': 'volumn'\n",
    "})\n",
    "\n",
    "numeric_columns = ['收盘', '开盘', '高', '低']\n",
    "for col in numeric_columns:\n",
    "    \n",
    "    df[col] = df[col].astype(str).str.replace(',', '').astype(float)\n",
    "\n",
    "df['ave'] = (df['高'] + df['低']) / 2\n",
    "\n",
    "#处理“volumn”列\n",
    "def convert_volumn(vol):\n",
    "    if isinstance(vol, str):\n",
    "        vol = vol.strip()  # 去除前后空格\n",
    "        if vol.endswith('K') or vol.endswith('k'):\n",
    "            return float(vol[:-1]) \n",
    "        elif vol.endswith('M') or vol.endswith('m'):\n",
    "            return float(vol[:-1]) * 1e3\n",
    "        else:\n",
    "            # 如果没有单位，尝试直接转换\n",
    "            return float(vol)\n",
    "    elif pd.isna(vol):\n",
    "        return np.nan\n",
    "    else:\n",
    "        return float(vol)\n",
    "\n",
    "df['volumn'] = df['volumn'].apply(convert_volumn)\n",
    "\n",
    "# 转换“date”列为日期格式\n",
    "df['date'] = pd.to_datetime(df['date'], format='%Y/%m/%d')\n",
    "df = df.sort_values('date').set_index('date')\n",
    "\n",
    "# 删除所有2月29日的数据\n",
    "df = df[~((df.index.month == 2) & (df.index.day == 29))]\n",
    "\n",
    "full_date_range = pd.date_range(start=df.index.min(), end=df.index.max(), freq='D')\n",
    "full_date_range = full_date_range[~((full_date_range.month == 2) & (full_date_range.day == 29))]\n",
    "\n",
    "# 填补缺失数据\n",
    "df['volumn'] = df['volumn'].interpolate(method='linear')\n",
    "df['ave'] = df['ave'].interpolate(method='linear')\n",
    "\n",
    "df = df.reset_index().rename(columns={'index': 'date'})\n",
    "df['date'] = df['date'].dt.strftime('%Y/%m/%d')\n",
    "\n",
    "# 创建新的DataFrame\n",
    "new_df = df[['date', 'volumn', 'ave']]\n",
    "new_df.to_csv(output_path, index=False, encoding='utf-8-sig')\n",
    "\n",
    "print(\"数据处理完成，已保存到:\", output_path)\n"
   ]
  }
 ],
 "metadata": {
  "kernelspec": {
   "display_name": "python",
   "language": "python",
   "name": "python3"
  },
  "language_info": {
   "codemirror_mode": {
    "name": "ipython",
    "version": 3
   },
   "file_extension": ".py",
   "mimetype": "text/x-python",
   "name": "python",
   "nbconvert_exporter": "python",
   "pygments_lexer": "ipython3",
   "version": "3.11.8"
  }
 },
 "nbformat": 4,
 "nbformat_minor": 2
}
